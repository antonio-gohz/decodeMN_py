{
 "cells": [
  {
   "cell_type": "markdown",
   "metadata": {},
   "source": [
    "# Tests\n",
    "\n"
   ]
  },
  {
   "cell_type": "code",
   "execution_count": 1,
   "metadata": {},
   "outputs": [
    {
     "name": "stdout",
     "output_type": "stream",
     "text": [
      "Figure closed!\n"
     ]
    }
   ],
   "source": [
    "# import needed libraries\n",
    "import numpy as np\n",
    "from sklearn.decomposition import PCA\n",
    "import sys\n",
    "import os\n",
    "\n",
    "# Get the current working directory (make sure to adjust the path accordingly)\n",
    "current_dir = os.path.dirname(os.path.abspath(\"__file__\"))\n",
    "\n",
    "# Add the path of the decomposition_lib to the system path\n",
    "sys.path.append(os.path.join(current_dir, 'plots'))\n",
    "import plots\n",
    "sys.path.append(os.path.join(current_dir, 'emg_lib'))\n",
    "import emg_lib as emgl\n",
    "import matplotlib.pyplot as plt\n",
    "\n",
    "\n",
    "# Add the path of the decomposition_lib to the system path\n",
    "sys.path.append(os.path.join(current_dir, 'decomposition_lib'))\n",
    "import decomposition_lib as dl\n",
    "import scipy.io \n",
    "from scipy.signal import butter, filtfilt, iirnotch\n",
    "\n"
   ]
  },
  {
   "cell_type": "markdown",
   "metadata": {},
   "source": [
    "## Extend"
   ]
  },
  {
   "cell_type": "code",
   "execution_count": 3,
   "metadata": {},
   "outputs": [
    {
     "name": "stderr",
     "output_type": "stream",
     "text": [
      "Decomposition: 100%|██████████| 20/20 [01:59<00:00,  5.95s/it]\n",
      "Removing duplicates:   0%|          | 0/20 [00:00<?, ?it/s]\n"
     ]
    },
    {
     "ename": "TypeError",
     "evalue": "correlate() got multiple values for argument 'mode'",
     "output_type": "error",
     "traceback": [
      "\u001b[1;31m---------------------------------------------------------------------------\u001b[0m",
      "\u001b[1;31mTypeError\u001b[0m                                 Traceback (most recent call last)",
      "Cell \u001b[1;32mIn[3], line 27\u001b[0m\n\u001b[0;32m     18\u001b[0m emg_filt \u001b[38;5;241m=\u001b[39m emg_filt[:,\u001b[38;5;241m4\u001b[39m\u001b[38;5;241m*\u001b[39mfs:\u001b[38;5;241m-\u001b[39m\u001b[38;5;241m4\u001b[39m\u001b[38;5;241m*\u001b[39mfs]\n\u001b[0;32m     20\u001b[0m \u001b[38;5;66;03m# plt.figure\u001b[39;00m\n\u001b[0;32m     21\u001b[0m \u001b[38;5;66;03m# plt.plot(emg_filt[0,:])\u001b[39;00m\n\u001b[0;32m     22\u001b[0m \u001b[38;5;66;03m# plt.show()\u001b[39;00m\n\u001b[0;32m     23\u001b[0m \u001b[38;5;66;03m# plt.pause(0.1)\u001b[39;00m\n\u001b[0;32m     26\u001b[0m MUFilters, SIL, COV, PulseT, Distime, normIPT, centroids \u001b[38;5;241m=\u001b[39m \\\n\u001b[1;32m---> 27\u001b[0m     \u001b[43mdl\u001b[49m\u001b[38;5;241;43m.\u001b[39;49m\u001b[43mdecomposition_offline\u001b[49m\u001b[43m(\u001b[49m\u001b[43memg_filt\u001b[49m\u001b[43m,\u001b[49m\u001b[43m \u001b[49m\u001b[43mfs\u001b[49m\u001b[43m,\u001b[49m\u001b[43m \u001b[49m\u001b[43mexfactor\u001b[49m\u001b[43m,\u001b[49m\u001b[43mnbIterations\u001b[49m\u001b[43m,\u001b[49m\u001b[43m \u001b[49m\u001b[43mpreOptFilters\u001b[49m\u001b[38;5;241;43m=\u001b[39;49m\u001b[38;5;28;43;01mNone\u001b[39;49;00m\u001b[43m,\u001b[49m\u001b[43m \u001b[49m\u001b[43mrefineStrategy\u001b[49m\u001b[38;5;241;43m=\u001b[39;49m\u001b[38;5;124;43m'\u001b[39;49m\u001b[38;5;124;43mSIL\u001b[39;49m\u001b[38;5;124;43m'\u001b[39;49m\u001b[43m,\u001b[49m\u001b[43m \u001b[49m\u001b[43m\\\u001b[49m\n\u001b[0;32m     28\u001b[0m \u001b[43m                              \u001b[49m\u001b[43mshowPlots\u001b[49m\u001b[38;5;241;43m=\u001b[39;49m\u001b[38;5;28;43;01mTrue\u001b[39;49;00m\u001b[43m,\u001b[49m\u001b[43m \u001b[49m\u001b[43mh\u001b[49m\u001b[38;5;241;43m=\u001b[39;49m\u001b[38;5;28;43;01mNone\u001b[39;49;00m\u001b[43m,\u001b[49m\u001b[43m \u001b[49m\u001b[43max\u001b[49m\u001b[38;5;241;43m=\u001b[39;49m\u001b[38;5;28;43;01mNone\u001b[39;49;00m\u001b[43m,\u001b[49m\u001b[43m \u001b[49m\u001b[43mpeeloff_flag\u001b[49m\u001b[38;5;241;43m=\u001b[39;49m\u001b[38;5;28;43;01mFalse\u001b[39;49;00m\u001b[43m,\u001b[49m\u001b[43m \u001b[49m\u001b[43mremoveDuplicates\u001b[49m\u001b[38;5;241;43m=\u001b[39;49m\u001b[38;5;28;43;01mTrue\u001b[39;49;00m\u001b[43m,\u001b[49m\u001b[43m \u001b[49m\u001b[43mqc_threshold\u001b[49m\u001b[38;5;241;43m=\u001b[39;49m\u001b[38;5;241;43m0.85\u001b[39;49m\u001b[43m)\u001b[49m\n",
      "File \u001b[1;32md:\\AntonioGogeascoechea\\OneDrive - University of Twente\\Scripts\\decompositionproject_python\\decomposition_lib\\decomposition_offline.py:145\u001b[0m, in \u001b[0;36mdecomposition_offline\u001b[1;34m(emg_filt, fs, exfactor, nbIterations, preOptFilters, refineStrategy, showPlots, h, ax, peeloff_flag, removeDuplicates, qc_threshold)\u001b[0m\n\u001b[0;32m    143\u001b[0m \u001b[38;5;66;03m# Remove duplicates\u001b[39;00m\n\u001b[0;32m    144\u001b[0m \u001b[38;5;28;01mif\u001b[39;00m removeDuplicates:\n\u001b[1;32m--> 145\u001b[0m     PulseT, Distime, idsnewVec \u001b[38;5;241m=\u001b[39m \u001b[43mremduplicates\u001b[49m\u001b[43m(\u001b[49m\u001b[43mPulseT\u001b[49m\u001b[43m,\u001b[49m\u001b[43m \u001b[49m\u001b[43mDistime\u001b[49m\u001b[43m,\u001b[49m\u001b[43m \u001b[49m\u001b[43mDistime\u001b[49m\u001b[43m,\u001b[49m\u001b[43m \u001b[49m\u001b[38;5;28;43mround\u001b[39;49m\u001b[43m(\u001b[49m\u001b[43mfs\u001b[49m\u001b[43m \u001b[49m\u001b[38;5;241;43m/\u001b[39;49m\u001b[43m \u001b[49m\u001b[38;5;241;43m40\u001b[39;49m\u001b[43m)\u001b[49m\u001b[43m,\u001b[49m\u001b[43m \u001b[49m\u001b[38;5;241;43m0.00025\u001b[39;49m\u001b[43m,\u001b[49m\u001b[43m \u001b[49m\u001b[38;5;241;43m0.3\u001b[39;49m\u001b[43m,\u001b[49m\u001b[43m \u001b[49m\u001b[43mfs\u001b[49m\u001b[43m)\u001b[49m\n\u001b[0;32m    146\u001b[0m     SIL \u001b[38;5;241m=\u001b[39m SIL[idsnewVec]\n\u001b[0;32m    147\u001b[0m     COV \u001b[38;5;241m=\u001b[39m COV[idsnewVec]\n",
      "File \u001b[1;32md:\\AntonioGogeascoechea\\OneDrive - University of Twente\\Scripts\\decompositionproject_python\\decomposition_lib\\remduplicates.py:47\u001b[0m, in \u001b[0;36mremduplicates\u001b[1;34m(PulseT, distime, distime2, maxlag, jitter, tol, fsamp, sil)\u001b[0m\n\u001b[0;32m     45\u001b[0m comdis \u001b[38;5;241m=\u001b[39m np\u001b[38;5;241m.\u001b[39mzeros(\u001b[38;5;28mlen\u001b[39m(distimmp))\n\u001b[0;32m     46\u001b[0m \u001b[38;5;28;01mfor\u001b[39;00m j \u001b[38;5;129;01min\u001b[39;00m \u001b[38;5;28mrange\u001b[39m(\u001b[38;5;241m1\u001b[39m, \u001b[38;5;28mlen\u001b[39m(distimmp)):\n\u001b[1;32m---> 47\u001b[0m     corr \u001b[38;5;241m=\u001b[39m \u001b[43mcorrelate\u001b[49m\u001b[43m(\u001b[49m\u001b[43mfirings\u001b[49m\u001b[43m[\u001b[49m\u001b[38;5;241;43m0\u001b[39;49m\u001b[43m,\u001b[49m\u001b[43m \u001b[49m\u001b[43m:\u001b[49m\u001b[43m]\u001b[49m\u001b[43m,\u001b[49m\u001b[43m \u001b[49m\u001b[43mfirings\u001b[49m\u001b[43m[\u001b[49m\u001b[43mj\u001b[49m\u001b[43m,\u001b[49m\u001b[43m \u001b[49m\u001b[43m:\u001b[49m\u001b[43m]\u001b[49m\u001b[43m,\u001b[49m\u001b[43m \u001b[49m\u001b[43mmaxlag\u001b[49m\u001b[43m \u001b[49m\u001b[38;5;241;43m*\u001b[39;49m\u001b[43m \u001b[49m\u001b[38;5;241;43m2\u001b[39;49m\u001b[43m,\u001b[49m\u001b[43m \u001b[49m\u001b[43mmode\u001b[49m\u001b[38;5;241;43m=\u001b[39;49m\u001b[38;5;124;43m'\u001b[39;49m\u001b[38;5;124;43mvalid\u001b[39;49m\u001b[38;5;124;43m'\u001b[39;49m\u001b[43m)\u001b[49m\n\u001b[0;32m     48\u001b[0m     correl_max \u001b[38;5;241m=\u001b[39m np\u001b[38;5;241m.\u001b[39mmax(corr)\n\u001b[0;32m     49\u001b[0m     lag_idx \u001b[38;5;241m=\u001b[39m np\u001b[38;5;241m.\u001b[39margmax(corr) \u001b[38;5;241m-\u001b[39m maxlag\n",
      "\u001b[1;31mTypeError\u001b[0m: correlate() got multiple values for argument 'mode'"
     ]
    }
   ],
   "source": [
    "fs = 2048\n",
    "exfactor = 16\n",
    "nbIterations = 20\n",
    "#emg_filt = np.array([[1, 2], [3, 4]])\n",
    "# Load the MATLAB file\n",
    "mat_file  = scipy.io.loadmat('sample_data\\hdemg_SOL_sample.mat')\n",
    "# Load the variable, e.g., if it's named 'emg_filt' in MATLAB\n",
    "# Assuming it might be structured; convert to numpy array\n",
    "if 'EMG' in mat_file:\n",
    "    emg = np.array(mat_file['EMG'])\n",
    "    emg = emg.T\n",
    "    #emg = emg[:,fs:-fs]\n",
    "else:\n",
    "    raise ValueError(\"Variable 'emg_filt' not found in the MATLAB file.\")\n",
    "\n",
    "emg_filt, emg_mask, emg_envelope = emgl.filter_emg(emg,fs)\n",
    "\n",
    "emg_filt = emg_filt[:,4*fs:-4*fs]\n",
    "\n",
    "# plt.figure\n",
    "# plt.plot(emg_filt[0,:])\n",
    "# plt.show()\n",
    "# plt.pause(0.1)\n",
    "\n",
    "\n",
    "MUFilters, SIL, COV, PulseT, Distime, normIPT, centroids = \\\n",
    "    dl.decomposition_offline(emg_filt, fs, exfactor,nbIterations, preOptFilters=None, refineStrategy='SIL', \\\n",
    "                              showPlots=True, h=None, ax=None, peeloff_flag=False, removeDuplicates=True, qc_threshold=0.85)"
   ]
  },
  {
   "cell_type": "code",
   "execution_count": null,
   "metadata": {},
   "outputs": [],
   "source": [
    "# for debugging:"
   ]
  },
  {
   "cell_type": "code",
   "execution_count": null,
   "metadata": {},
   "outputs": [],
   "source": [
    "# Ensure interactive mode is set up for Jupyter Notebook\n",
    "from plots.live_plots import LivePlot\n",
    "\n",
    "# Initialize the live plot with the desired configuration\n",
    "live_plot = LivePlot(num_axes=2, num_lines=[1, 2])\n",
    "\n",
    "# Simulated data update in a loop (example for demonstration)\n",
    "import numpy as np\n",
    "import time\n",
    "\n",
    "x_data = np.linspace(0, 10, 100)\n",
    "for i in range(100):\n",
    "    y_data1 = np.sin(x_data + i * 0.1)\n",
    "    y_data2 = np.cos(x_data + i * 0.1)\n",
    "    \n",
    "    # Update with new data\n",
    "    live_plot.update([\n",
    "        [(x_data, y_data1)],  # For the first axis\n",
    "        [(x_data, y_data1), (x_data, y_data2)]  # For the second axis\n",
    "    ])\n",
    "    \n",
    "    time.sleep(0.1)  # Simulate real-time data feed"
   ]
  },
  {
   "cell_type": "code",
   "execution_count": null,
   "metadata": {},
   "outputs": [],
   "source": [
    "import matplotlib.pyplot as plt\n",
    "plt.figure\n",
    "plt.plot(filtered_emg[0,:])\n",
    "plt.show()\n",
    "plt.pause(0.1)"
   ]
  }
 ],
 "metadata": {
  "kernelspec": {
   "display_name": "venv",
   "language": "python",
   "name": "python3"
  },
  "language_info": {
   "codemirror_mode": {
    "name": "ipython",
    "version": 3
   },
   "file_extension": ".py",
   "mimetype": "text/x-python",
   "name": "python",
   "nbconvert_exporter": "python",
   "pygments_lexer": "ipython3",
   "version": "3.10.0"
  }
 },
 "nbformat": 4,
 "nbformat_minor": 2
}
