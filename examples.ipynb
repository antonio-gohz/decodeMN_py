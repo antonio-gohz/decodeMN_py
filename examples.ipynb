{
 "cells": [
  {
   "cell_type": "markdown",
   "metadata": {},
   "source": [
    "# Tests\n",
    "\n"
   ]
  },
  {
   "cell_type": "markdown",
   "metadata": {},
   "source": [
    "## Set-up"
   ]
  },
  {
   "cell_type": "code",
   "execution_count": 3,
   "metadata": {},
   "outputs": [],
   "source": [
    "# import needed libraries\n",
    "import numpy as np\n",
    "from sklearn.decomposition import PCA\n",
    "import sys\n",
    "import os\n",
    "\n",
    "# Get the current working directory (make sure to adjust the path accordingly)\n",
    "current_dir = os.path.dirname(os.path.abspath(\"__file__\"))\n",
    "\n",
    "# Add the path of the decomposition_lib to the system path\n",
    "sys.path.append(os.path.join(current_dir, 'plots'))\n",
    "import plots\n",
    "sys.path.append(os.path.join(current_dir, 'emg_lib'))\n",
    "import emg_lib as emgl\n",
    "import matplotlib.pyplot as plt\n",
    "\n",
    "\n",
    "# Add the path of the decomposition_lib to the system path\n",
    "sys.path.append(os.path.join(current_dir, 'decomposition_lib'))\n",
    "import decomposition_lib as dl\n",
    "import scipy.io \n",
    "from scipy.signal import butter, filtfilt, iirnotch\n",
    "\n"
   ]
  },
  {
   "cell_type": "markdown",
   "metadata": {},
   "source": [
    "## Offline decomposition example"
   ]
  },
  {
   "cell_type": "code",
   "execution_count": null,
   "metadata": {},
   "outputs": [
    {
     "name": "stderr",
     "output_type": "stream",
     "text": [
      "Decomposition:   0%|          | 0/20 [00:00<?, ?it/s]"
     ]
    },
    {
     "name": "stdout",
     "output_type": "stream",
     "text": [
      "Figure closed!\n"
     ]
    }
   ],
   "source": [
    "fs = 2048\n",
    "exfactor = 16\n",
    "nbIterations = 20\n",
    "#emg_filt = np.array([[1, 2], [3, 4]])\n",
    "# Load the MATLAB file\n",
    "mat_file  = scipy.io.loadmat('sample_data\\hdemg_SOL_sample.mat')\n",
    "# Load the variable, e.g., if it's named 'emg_filt' in MATLAB\n",
    "# Assuming it might be structured; convert to numpy array\n",
    "if 'EMG' in mat_file:\n",
    "    emg = np.array(mat_file['EMG'])\n",
    "    emg = emg.T\n",
    "    #emg = emg[:,fs:-fs]\n",
    "else:\n",
    "    raise ValueError(\"Variable 'emg_filt' not found in the MATLAB file.\")\n",
    "\n",
    "emg_filt, emg_mask, emg_envelope = emgl.filter_emg(emg,fs)\n",
    "\n",
    "emg_filt = emg_filt[:,4*fs:-4*fs]\n",
    "\n",
    "sources, decompParams = \\\n",
    "    dl.decomposition_offline(emg_filt, fs, exfactor,nbIterations, preOptFilters=None, refineStrategy='SIL', \\\n",
    "                              showPlots=True, h=None, ax=None, peeloff_flag=False, removeDuplicates=True, qc_threshold=0.85)"
   ]
  },
  {
   "cell_type": "markdown",
   "metadata": {},
   "source": [
    "## Plot example"
   ]
  },
  {
   "cell_type": "code",
   "execution_count": 31,
   "metadata": {},
   "outputs": [],
   "source": [
    "dischargeRates=sources['dischargeRates']\n",
    "spikeTrains=sources['spikeTrains']\n",
    "PulseT=sources['PulseT']\n",
    "# Plotting\n",
    "nMUs, nSamples = PulseT.shape\n",
    "\n",
    "# Normalize the discharge rates to 40 Hz (or any specific target frequency)\n",
    "normalized_dischargeRates = dischargeRates / np.nanmax(dischargeRates) * 40\n",
    "\n",
    "# Compute median discharge rates for y-ticks\n",
    "meanDR = np.nanmean(dischargeRates, axis=1)\n",
    "\n",
    "# Create time vector in seconds\n",
    "tVec = np.arange(nSamples) / fs\n",
    "\n",
    "# Create color array for each MN (example using a colormap)\n",
    "colors = plt.cm.viridis(np.linspace(0, 1, nMUs))\n",
    "\n",
    "# Set up subplots\n",
    "fig, ax = plt.subplots(1, 2, figsize=(12, 6), sharex=True, sharey=False)\n",
    "\n",
    "# Plot spike trains\n",
    "for i in range(nMUs):\n",
    "    ax[0].plot(tVec, (0.8 * spikeTrains[i, :] + i + 1 - 0.4),color=colors[i])\n",
    "\n",
    "# Plot discharge rates\n",
    "for i in range(nMUs):\n",
    "    ax[1].plot(tVec, normalized_dischargeRates[i, :] / 40 + i + 1 - 0.5, '.', markersize=10, color=colors[i])\n",
    "\n",
    "\n",
    "\n",
    "# Set y-ticks for both plots\n",
    "ax[0].set_yticks(np.arange(1,nMUs+1))\n",
    "ax[0].set_yticklabels([str(i) for i in range(1,nMUs+1)])\n",
    "\n",
    "ax[1].set_yticks(np.arange(1,nMUs+1))\n",
    "ax[1].set_yticklabels([f'{meanDR[i]:.1f}' for i in range(nMUs)])\n",
    "\n",
    "# Label axes\n",
    "ax[0].set_title(\"Spike Trains (Raster Plot)\")\n",
    "ax[0].set_ylabel(\"Motor Units\")\n",
    "ax[0].set_xlabel(\"Time (s)\")\n",
    "\n",
    "ax[1].set_title(\"Normalized Instantaneous Discharge Rates\")\n",
    "ax[1].set_ylabel(\"Median DR (Hz)\")\n",
    "ax[1].set_xlabel(\"Time (s)\")\n",
    "\n",
    "# Show the plot\n",
    "#plt.tight_layout()\n",
    "plt.draw()\n",
    "plt.pause(0.1)"
   ]
  }
 ],
 "metadata": {
  "kernelspec": {
   "display_name": "venv",
   "language": "python",
   "name": "python3"
  },
  "language_info": {
   "codemirror_mode": {
    "name": "ipython",
    "version": 3
   },
   "file_extension": ".py",
   "mimetype": "text/x-python",
   "name": "python",
   "nbconvert_exporter": "python",
   "pygments_lexer": "ipython3",
   "version": "3.10.0"
  }
 },
 "nbformat": 4,
 "nbformat_minor": 2
}
